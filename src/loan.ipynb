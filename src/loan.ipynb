{
 "cells": [
  {
   "cell_type": "code",
   "execution_count": 9,
   "metadata": {},
   "outputs": [
    {
     "name": "stdout",
     "output_type": "stream",
     "text": [
      "        id  year     issue_d  final_d  emp_length_int home_ownership  \\\n",
      "0  1062177  2011  01/12/2011  1062013             2.0       MORTGAGE   \n",
      "1  1049352  2011  01/12/2011  1042013             1.0       MORTGAGE   \n",
      "2  1062976  2011  01/12/2011  1042013            10.0           RENT   \n",
      "3  1058564  2011  01/12/2011  1122014             6.0           RENT   \n",
      "4  1061837  2011  01/12/2011  1122014             7.0           RENT   \n",
      "\n",
      "  income_category  annual_inc  income_cat  loan_amount        term  term_cat  \\\n",
      "0             Low       44400           1        15000   36 months         1   \n",
      "1             Low      100000           1         6600   36 months         1   \n",
      "2             Low       45000           1         4000   60 months         2   \n",
      "3             Low       57600           1         8000   36 months         1   \n",
      "4             Low       60000           1        15000   36 months         1   \n",
      "\n",
      "  application_type purpose  purpose_cat interest_payments loan_condition  \\\n",
      "0       INDIVIDUAL   house           12              High      Good Loan   \n",
      "1       INDIVIDUAL   house           12               Low      Good Loan   \n",
      "2       INDIVIDUAL   house           12              High       Bad Loan   \n",
      "3       INDIVIDUAL   house           12               Low      Good Loan   \n",
      "4       INDIVIDUAL   house           12               Low      Good Loan   \n",
      "\n",
      "   interest_rate grade  grade_cat    dti   total_pymnt  total_rec_prncp  \\\n",
      "0          17.27     D          4   3.59  17991.530000         15000.00   \n",
      "1           9.91     B          2  15.53   7274.620000          6600.00   \n",
      "2          19.91     E          5  15.20   1775.800000           660.29   \n",
      "3           6.03     A          1  11.52   8765.098071          8000.00   \n",
      "4           6.03     A          1  12.78  16434.538010         15000.00   \n",
      "\n",
      "   recoveries  installment        region  \n",
      "0        0.00       536.81      leinster  \n",
      "1        0.00       212.69      leinster  \n",
      "2      191.14       105.78  Northern-Irl  \n",
      "3        0.00       243.49        ulster  \n",
      "4        0.00       456.54  Northern-Irl  \n"
     ]
    }
   ],
   "source": [
    "import pandas as pd\n",
    "import statsmodels.api as sm\n",
    "\n",
    "file = '../data/mortgage.csv'\n",
    "loan_df = pd.read_csv(file)\n",
    "pd.set_option('display.max_columns', None)\n",
    "print(loan_df.head())\n",
    "\n"
   ]
  },
  {
   "cell_type": "code",
   "execution_count": 15,
   "metadata": {},
   "outputs": [
    {
     "name": "stdout",
     "output_type": "stream",
     "text": [
      "                            OLS Regression Results                            \n",
      "==============================================================================\n",
      "Dep. Variable:            loan_amount   R-squared:                       0.228\n",
      "Model:                            OLS   Adj. R-squared:                  0.227\n",
      "Method:                 Least Squares   F-statistic:                     218.2\n",
      "Date:                Sun, 23 Jun 2024   Prob (F-statistic):          1.64e-204\n",
      "Time:                        17:25:05   Log-Likelihood:                -38486.\n",
      "No. Observations:                3707   AIC:                         7.698e+04\n",
      "Df Residuals:                    3701   BIC:                         7.702e+04\n",
      "Df Model:                           5                                         \n",
      "Covariance Type:            nonrobust                                         \n",
      "==================================================================================\n",
      "                     coef    std err          t      P>|t|      [0.025      0.975]\n",
      "----------------------------------------------------------------------------------\n",
      "const           4422.4237    643.432      6.873      0.000    3160.907    5683.941\n",
      "annual_inc         0.0697      0.002     29.435      0.000       0.065       0.074\n",
      "emp_length_int   142.4458     37.426      3.806      0.000      69.069     215.823\n",
      "interest_rate    378.9188     94.159      4.024      0.000     194.311     563.527\n",
      "dti              -46.5928     15.883     -2.934      0.003     -77.732     -15.453\n",
      "grade_cat       -385.4102    300.380     -1.283      0.200    -974.336     203.516\n",
      "==============================================================================\n",
      "Omnibus:                       93.124   Durbin-Watson:                   1.901\n",
      "Prob(Omnibus):                  0.000   Jarque-Bera (JB):              139.773\n",
      "Skew:                           0.257   Prob(JB):                     4.45e-31\n",
      "Kurtosis:                       3.800   Cond. No.                     5.15e+05\n",
      "==============================================================================\n",
      "\n",
      "Notes:\n",
      "[1] Standard Errors assume that the covariance matrix of the errors is correctly specified.\n",
      "[2] The condition number is large, 5.15e+05. This might indicate that there are\n",
      "strong multicollinearity or other numerical problems.\n"
     ]
    }
   ],
   "source": [
    "# variables\n",
    "features = ['annual_inc', 'emp_length_int', 'interest_rate', 'dti', 'grade_cat']\n",
    "target = 'loan_amount'\n",
    "\n",
    "X = loan_df[features]\n",
    "y = loan_df[target]\n",
    "\n",
    "X = sm.add_constant(X)\n",
    "\n",
    "# Fit the linear regression model\n",
    "model = sm.OLS(y, X).fit()\n",
    "\n",
    "summary = model.summary()\n",
    "print(summary)"
   ]
  },
  {
   "cell_type": "markdown",
   "metadata": {},
   "source": [
    "#results\n",
    "1) The model explains about 23% of the variation in loan amounts (R-squared = 0.228). This means it's not very accurate, as many other factors also affect loan amounts.\n",
    "2) The F-statistic is 218.2, and the associated p-value (Prob > F) is extremely low (1.64e-204), indicating that the overall model is statistically significant and that at least one of the predictors is significantly related to the loan amount.\n",
    "3) Annual Income (annual_inc): The coefficient is 0.0697, with a very low p-value (<0.0001), indicating that annual income is a significant positive predictor of loan amount.\n",
    "4) Employment Length (emp_length_int): The coefficient is 142.4458, with a p-value of 0.000. This indicates that for each additional year of employment, the loan amount increases by approximately 142.45 dollars.\n",
    "5) Interest Rate (interest_rate): The coefficient is 378.9188, with a p-value of 0.000. This suggests that a higher interest rate is associated with a higher loan amount. For each percentage point increase in the interest rate, the loan amount increases by about 378.92 dollars.\n",
    "6) Debt-to-Income Ratio (dti): The coefficient is -46.5928, with a p-value of 0.003, indicating that higher DTI ratios are associated with lower loan amounts. \n",
    "7) Grade Category (grade_cat): The coefficient is -385.4102, with a p-value of 0.200. This suggests that grade category is not a statistically significant predictor of loan amount in this model."
   ]
  },
  {
   "cell_type": "code",
   "execution_count": 18,
   "metadata": {},
   "outputs": [
    {
     "name": "stdout",
     "output_type": "stream",
     "text": [
      "Optimization terminated successfully.\n",
      "         Current function value: 0.335409\n",
      "         Iterations 7\n",
      "                           Logit Regression Results                           \n",
      "==============================================================================\n",
      "Dep. Variable:         loan_condition   No. Observations:                 2965\n",
      "Model:                          Logit   Df Residuals:                     2959\n",
      "Method:                           MLE   Df Model:                            5\n",
      "Date:                Sun, 23 Jun 2024   Pseudo R-squ.:                 0.03955\n",
      "Time:                        17:27:55   Log-Likelihood:                -994.49\n",
      "converged:                       True   LL-Null:                       -1035.4\n",
      "Covariance Type:            nonrobust   LLR p-value:                 3.344e-16\n",
      "==============================================================================\n",
      "                 coef    std err          z      P>|z|      [0.025      0.975]\n",
      "------------------------------------------------------------------------------\n",
      "const          2.2024      0.066     33.601      0.000       2.074       2.331\n",
      "x1             0.4160      0.091      4.595      0.000       0.239       0.593\n",
      "x2            -0.0262      0.060     -0.438      0.661      -0.143       0.091\n",
      "x3            -0.1765      0.226     -0.782      0.435      -0.619       0.266\n",
      "x4            -0.0548      0.060     -0.918      0.359      -0.172       0.062\n",
      "x5            -0.2186      0.225     -0.972      0.331      -0.660       0.222\n",
      "==============================================================================\n",
      "              precision    recall  f1-score   support\n",
      "\n",
      "           0       0.00      0.00      0.00        87\n",
      "           1       0.88      1.00      0.94       655\n",
      "\n",
      "    accuracy                           0.88       742\n",
      "   macro avg       0.44      0.50      0.47       742\n",
      "weighted avg       0.78      0.88      0.83       742\n",
      "\n",
      "[[  0  87]\n",
      " [  0 655]]\n"
     ]
    },
    {
     "name": "stderr",
     "output_type": "stream",
     "text": [
      "c:\\Users\\ogulc\\miniconda3\\envs\\dsi_participant\\lib\\site-packages\\sklearn\\metrics\\_classification.py:1509: UndefinedMetricWarning: Precision is ill-defined and being set to 0.0 in labels with no predicted samples. Use `zero_division` parameter to control this behavior.\n",
      "  _warn_prf(average, modifier, f\"{metric.capitalize()} is\", len(result))\n",
      "c:\\Users\\ogulc\\miniconda3\\envs\\dsi_participant\\lib\\site-packages\\sklearn\\metrics\\_classification.py:1509: UndefinedMetricWarning: Precision is ill-defined and being set to 0.0 in labels with no predicted samples. Use `zero_division` parameter to control this behavior.\n",
      "  _warn_prf(average, modifier, f\"{metric.capitalize()} is\", len(result))\n",
      "c:\\Users\\ogulc\\miniconda3\\envs\\dsi_participant\\lib\\site-packages\\sklearn\\metrics\\_classification.py:1509: UndefinedMetricWarning: Precision is ill-defined and being set to 0.0 in labels with no predicted samples. Use `zero_division` parameter to control this behavior.\n",
      "  _warn_prf(average, modifier, f\"{metric.capitalize()} is\", len(result))\n"
     ]
    }
   ],
   "source": [
    "\n",
    "from sklearn.model_selection import train_test_split\n",
    "from sklearn.preprocessing import StandardScaler\n",
    "from sklearn.metrics import classification_report, confusion_matrix\n",
    "\n",
    "# variables\n",
    "features = ['annual_inc', 'emp_length_int', 'interest_rate', 'dti', 'grade_cat']\n",
    "target = 'loan_condition'\n",
    "\n",
    "X = loan_df[features]\n",
    "y = loan_df[target]\n",
    "\n",
    "# \n",
    "y = y.map({'Good Loan': 1, 'Bad Loan': 0})\n",
    "\n",
    "# testing sets\n",
    "X_train, X_test, y_train, y_test = train_test_split(X, y, test_size=0.2, random_state=42)\n",
    "\n",
    "# Standardize\n",
    "scaler = StandardScaler()\n",
    "X_train = scaler.fit_transform(X_train)\n",
    "X_test = scaler.transform(X_test)\n",
    "\n",
    "# Add a constant\n",
    "X_train = sm.add_constant(X_train)\n",
    "X_test = sm.add_constant(X_test)\n",
    "\n",
    "# Fit the logistic regression model\n",
    "logit_model = sm.Logit(y_train, X_train).fit()\n",
    "\n",
    "\n",
    "print(logit_model.summary())\n",
    "\n",
    "# predictions\n",
    "y_pred_prob = logit_model.predict(X_test)\n",
    "y_pred = (y_pred_prob > 0.5).astype(int)\n",
    "\n",
    "\n",
    "print(classification_report(y_test, y_pred))\n",
    "print(confusion_matrix(y_test, y_pred))\n"
   ]
  }
 ],
 "metadata": {
  "kernelspec": {
   "display_name": "dsi_participant",
   "language": "python",
   "name": "python3"
  },
  "language_info": {
   "codemirror_mode": {
    "name": "ipython",
    "version": 3
   },
   "file_extension": ".py",
   "mimetype": "text/x-python",
   "name": "python",
   "nbconvert_exporter": "python",
   "pygments_lexer": "ipython3",
   "version": "3.9.15"
  }
 },
 "nbformat": 4,
 "nbformat_minor": 2
}
